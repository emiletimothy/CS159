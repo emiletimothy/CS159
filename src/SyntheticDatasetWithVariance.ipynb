{
  "nbformat": 4,
  "nbformat_minor": 0,
  "metadata": {
    "colab": {
      "name": "SyntheticDatasetWithVariance.ipynb",
      "provenance": [],
      "collapsed_sections": [],
      "authorship_tag": "ABX9TyMAWFHNN9t5td5gp0+e+hho",
      "include_colab_link": true
    },
    "kernelspec": {
      "name": "python3",
      "display_name": "Python 3"
    },
    "language_info": {
      "name": "python"
    }
  },
  "cells": [
    {
      "cell_type": "markdown",
      "metadata": {
        "id": "view-in-github",
        "colab_type": "text"
      },
      "source": [
        "<a href=\"https://colab.research.google.com/github/emiletimothy24/CS159/blob/main/src/SyntheticDatasetWithVariance.ipynb\" target=\"_parent\"><img src=\"https://colab.research.google.com/assets/colab-badge.svg\" alt=\"Open In Colab\"/></a>"
      ]
    },
    {
      "cell_type": "code",
      "execution_count": null,
      "metadata": {
        "id": "0FVngme2YmZr"
      },
      "outputs": [],
      "source": [
        "import numpy as np\n",
        "import matplotlib.pyplot as plt\n",
        "import scipy as sc\n",
        "import sklearn as sk\n",
        "import pandas as pd\n",
        "import seaborn as sns\n",
        "import random\n",
        "import matplotlib.cm as cm\n",
        "import matplotlib\n",
        "from sklearn import manifold, datasets, decomposition\n",
        "import tensorflow as tf"
      ]
    },
    {
      "cell_type": "code",
      "source": [
        "size = 6000\n",
        "classes = 20\n",
        "partition_size = int(size/classes)"
      ],
      "metadata": {
        "id": "oTYBc6oUYzXy"
      },
      "execution_count": null,
      "outputs": []
    },
    {
      "cell_type": "code",
      "source": [
        "dataset = []\n",
        "r=0\n",
        "c=0\n",
        "for class_number in range(classes):\n",
        "  r = 10*np.random.random()\n",
        "  standard_deviation = np.random.random()*2\n",
        "  for time in range(partition_size):\n",
        "    original_values = [np.sin(r),\n",
        "                      np.cos(r),\n",
        "                      np.tan(r),\n",
        "                      np.exp(r),\n",
        "                      np.sinh(r),\n",
        "                      np.cosh(r),\n",
        "                      np.tanh(r),\n",
        "                      np.log(r+2),\n",
        "                      1/np.sin(r),\n",
        "                      1/np.cos(r),\n",
        "                      1/np.tan(r),\n",
        "                      1/np.sinh(r),\n",
        "                      1/np.cosh(r),\n",
        "                      1/np.tanh(r),\n",
        "                      2*(r**3)+5*(r**2)+4*r,\n",
        "                      2*np.sin(r) + 7*r - 4*np.log10(r+2),\n",
        "                      r,\n",
        "                      r**2,\n",
        "                      r+np.sin(r)*np.cos(r)*np.tan(r),\n",
        "                      r*np.sin(r)]\n",
        "    errors = [np.random.normal(0.2, standard_deviation) for i in range(20)]\n",
        "    entry = [original_values[i]+errors[i] for i in range(20)]\n",
        "    for error in errors:\n",
        "      entry.append(np.abs(error))\n",
        "    y = class_number\n",
        "    dataset.append([entry, y])\n",
        "\n",
        "dataset = np.array(dataset)\n",
        "X = []\n",
        "for item in dataset[:,0]:\n",
        "  X.append(item)\n",
        "X = np.array(X)\n",
        "Y = dataset[:,1]"
      ],
      "metadata": {
        "colab": {
          "base_uri": "https://localhost:8080/"
        },
        "id": "VaTMp8ERyL-F",
        "outputId": "a5387d2f-5086-489b-b4c8-9dd8b7c0c355"
      },
      "execution_count": null,
      "outputs": [
        {
          "output_type": "stream",
          "name": "stderr",
          "text": [
            "/usr/local/lib/python3.7/dist-packages/ipykernel_launcher.py:35: VisibleDeprecationWarning: Creating an ndarray from ragged nested sequences (which is a list-or-tuple of lists-or-tuples-or ndarrays with different lengths or shapes) is deprecated. If you meant to do this, you must specify 'dtype=object' when creating the ndarray.\n"
          ]
        }
      ]
    },
    {
      "cell_type": "code",
      "source": [
        "X"
      ],
      "metadata": {
        "id": "Bw8o23ZPEPbT",
        "outputId": "f568eb68-f645-4704-f033-86bc3c7e24d2",
        "colab": {
          "base_uri": "https://localhost:8080/"
        }
      },
      "execution_count": null,
      "outputs": [
        {
          "output_type": "execute_result",
          "data": {
            "text/plain": [
              "array([[ 1.01146283,  0.01112789, -1.4521933 , ...,  0.05608038,\n",
              "         0.32904534,  0.63801176],\n",
              "       [ 0.33512491,  0.39947608, -0.8780631 , ...,  0.27655309,\n",
              "         0.34248249,  0.17948902],\n",
              "       [ 0.95088912, -0.57291005, -1.25462725, ...,  0.55508633,\n",
              "         0.43811704,  0.02984601],\n",
              "       ...,\n",
              "       [-1.9300246 ,  0.53640945,  0.56452546, ...,  0.50977576,\n",
              "         0.48009172,  0.46165572],\n",
              "       [ 1.1533638 , -0.16387659, -0.68581286, ...,  0.49857005,\n",
              "         0.79659277,  0.80942178],\n",
              "       [ 0.2674922 , -0.87789659, -0.73039643, ...,  0.26095525,\n",
              "         0.736634  ,  0.98981441]])"
            ]
          },
          "metadata": {},
          "execution_count": 10
        }
      ]
    },
    {
      "cell_type": "code",
      "source": [
        "df = pd.DataFrame()\n",
        "for i in range(20):\n",
        "  s=\"Variable\" + str(i)\n",
        "  df.insert(i,s,X[:,i])\n",
        "for i in range(20):\n",
        "  s=\"ErrorVariable\" + str(i+20)\n",
        "  df.insert(i+20,s,X[:,i+20])\n",
        "df.insert(40,\"Y\",Y)"
      ],
      "metadata": {
        "id": "foApuH2qRgGT"
      },
      "execution_count": null,
      "outputs": []
    },
    {
      "cell_type": "code",
      "source": [
        "perplexity=20\n",
        "print(\"\\n\\nPerplexity = \", perplexity)\n",
        "tsne = manifold.TSNE(n_components=2, init='random', method='barnes_hut', random_state=0, perplexity=perplexity,n_iter=650, verbose=2,learning_rate=1.5)\n",
        "Yprime = tsne.fit_transform(X[:,0:20])"
      ],
      "metadata": {
        "colab": {
          "base_uri": "https://localhost:8080/"
        },
        "id": "JZ6mZo1Byspl",
        "outputId": "8b386fb9-e036-461b-fbdd-d09a62e47c4d"
      },
      "execution_count": null,
      "outputs": [
        {
          "output_type": "stream",
          "name": "stdout",
          "text": [
            "\n",
            "\n",
            "Perplexity =  20\n",
            "[t-SNE] Computing 61 nearest neighbors...\n",
            "[t-SNE] Indexed 6000 samples in 0.001s...\n",
            "[t-SNE] Computed neighbors for 6000 samples in 0.936s...\n",
            "[t-SNE] Computed conditional probabilities for sample 1000 / 6000\n",
            "[t-SNE] Computed conditional probabilities for sample 2000 / 6000\n",
            "[t-SNE] Computed conditional probabilities for sample 3000 / 6000\n",
            "[t-SNE] Computed conditional probabilities for sample 4000 / 6000\n",
            "[t-SNE] Computed conditional probabilities for sample 5000 / 6000\n",
            "[t-SNE] Computed conditional probabilities for sample 6000 / 6000\n",
            "[t-SNE] Mean sigma: 0.064221\n",
            "[t-SNE] Computed conditional probabilities in 0.551s\n",
            "[t-SNE] Iteration 50: error = 95.1559753, gradient norm = 0.0000015 (50 iterations in 6.512s)\n",
            "[t-SNE] Iteration 100: error = 95.1559753, gradient norm = 0.0000021 (50 iterations in 3.281s)\n",
            "[t-SNE] Iteration 150: error = 95.1559677, gradient norm = 0.0000166 (50 iterations in 1.646s)\n",
            "[t-SNE] Iteration 200: error = 95.1550140, gradient norm = 0.0003227 (50 iterations in 1.621s)\n",
            "[t-SNE] Iteration 250: error = 93.9236832, gradient norm = 0.0095379 (50 iterations in 1.625s)\n",
            "[t-SNE] KL divergence after 250 iterations with early exaggeration: 93.923683\n",
            "[t-SNE] Iteration 300: error = 5.1060314, gradient norm = 0.0121799 (50 iterations in 1.595s)\n",
            "[t-SNE] Iteration 350: error = 4.4162703, gradient norm = 0.0095150 (50 iterations in 1.637s)\n",
            "[t-SNE] Iteration 400: error = 3.8305964, gradient norm = 0.0064902 (50 iterations in 1.649s)\n",
            "[t-SNE] Iteration 450: error = 3.4446921, gradient norm = 0.0044498 (50 iterations in 1.608s)\n",
            "[t-SNE] Iteration 500: error = 3.2056475, gradient norm = 0.0031193 (50 iterations in 1.616s)\n",
            "[t-SNE] Iteration 550: error = 3.0536265, gradient norm = 0.0023321 (50 iterations in 1.582s)\n",
            "[t-SNE] Iteration 600: error = 2.9450765, gradient norm = 0.0020244 (50 iterations in 1.571s)\n",
            "[t-SNE] Iteration 650: error = 2.8328111, gradient norm = 0.0019408 (50 iterations in 1.563s)\n",
            "[t-SNE] KL divergence after 650 iterations: 2.832811\n"
          ]
        }
      ]
    },
    {
      "cell_type": "code",
      "source": [
        "fig = plt.figure(figsize=(8, 6))\n",
        "ax = plt.axes()\n",
        "string = \"Perplexity = \" + str(perplexity)\n",
        "plt.title(string)\n",
        "cmap = matplotlib.cm.get_cmap('magma')\n",
        "normalize = matplotlib.colors.Normalize(vmin=min(Y), vmax=max(Y))\n",
        "colors = [cmap(normalize(value)) for value in Yprime]\n",
        "colors = [list(np.ndarray.flatten(np.array(i))) for i in colors]\n",
        "sc = plt.scatter(Yprime[:,0], Yprime[:,1], c=Y)\n",
        "cax, _ = matplotlib.colorbar.make_axes(ax)\n",
        "cbar = matplotlib.colorbar.ColorbarBase(cax, cmap=cmap, norm=normalize)\n",
        "plt.show()"
      ],
      "metadata": {
        "colab": {
          "base_uri": "https://localhost:8080/",
          "height": 390
        },
        "id": "L5g8iKNjzXfZ",
        "outputId": "40f53a36-35c2-47d1-f169-08ef90cbcf22"
      },
      "execution_count": null,
      "outputs": [
        {
          "output_type": "display_data",
          "data": {
            "text/plain": [
              "<Figure size 576x432 with 2 Axes>"
            ],
            "image/png": "[encoded data removed]"
          },
          "metadata": {
            "needs_background": "light"
          }
        }
      ]
    },
    {
      "cell_type": "code",
      "source": [
        "df.to_csv(r'C:\\Users\\Emile\\Desktop\\CS159ActualSyntheticData.csv', index=False)"
      ],
      "metadata": {
        "id": "OKjdj8OeUcDx"
      },
      "execution_count": null,
      "outputs": []
    },
    {
      "cell_type": "code",
      "source": [
        ""
      ],
      "metadata": {
        "id": "vWyYh-dZ22l9"
      },
      "execution_count": null,
      "outputs": []
    },
    {
      "cell_type": "code",
      "source": [
        ""
      ],
      "metadata": {
        "id": "FfAUtGCrT_DT"
      },
      "execution_count": null,
      "outputs": []
    }
  ]
}